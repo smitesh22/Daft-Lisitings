{
 "cells": [
  {
   "cell_type": "code",
   "execution_count": 1,
   "metadata": {},
   "outputs": [],
   "source": [
    "import pandas as pd\n",
    "from daftlistings import Daft, Location, SearchType, PropertyType\n",
    "import time"
   ]
  },
  {
   "cell_type": "code",
   "execution_count": 2,
   "metadata": {},
   "outputs": [],
   "source": [
    "location_list = []\n",
    "search_type_list = []\n",
    "property_type_list = []\n",
    "\n",
    "for location in Location:\n",
    "    location_list.append(location)\n",
    "\n",
    "for search_type in SearchType:\n",
    "    search_type_list.append(search_type)\n",
    "\n",
    "for property_type in PropertyType:\n",
    "    property_type_list.append(property_type)"
   ]
  },
  {
   "cell_type": "code",
   "execution_count": 3,
   "metadata": {},
   "outputs": [],
   "source": [
    "import pandas as pd\n",
    "\n",
    "# Create an empty DataFrame\n",
    "columns = ['ID', 'Location', 'SearchType', 'PropertyType', 'TITLE', 'AGENT_ID',\n",
    "           'AGENT_BRANCH', 'AGENT_NAME', 'AGENT_SELLER_TYPE', 'BATHROOMS', 'BEDROOMS',\n",
    "           'BER', 'CATEGORY', 'MONTHLY_PRICE', 'PRICE', 'LATITUDE', 'LONGITUDE',\n",
    "           'PUBLISH_DATE']\n",
    "dataframe = pd.DataFrame(columns=columns)"
   ]
  },
  {
   "cell_type": "code",
   "execution_count": 4,
   "metadata": {},
   "outputs": [],
   "source": [
    "checkpoint_file = 'daft_checkpoint.txt'\n",
    "\n",
    "with open(checkpoint_file) as f:\n",
    "    checkpoints = f.read().split(',')\n",
    "    \n",
    "checkpoint_location = checkpoints[0]\n",
    "checkpoint_search_type = checkpoints[1]\n",
    "checkpoint_property_type = checkpoints[2]"
   ]
  },
  {
   "cell_type": "code",
   "execution_count": 5,
   "metadata": {},
   "outputs": [
    {
     "data": {
      "text/plain": [
       "'Location.ABBEY_GALWAY'"
      ]
     },
     "execution_count": 5,
     "metadata": {},
     "output_type": "execute_result"
    }
   ],
   "source": [
    "checkpoint_location"
   ]
  },
  {
   "cell_type": "code",
   "execution_count": 6,
   "metadata": {},
   "outputs": [
    {
     "name": "stdout",
     "output_type": "stream",
     "text": [
      "Searching...\n",
      "Search complete. Found 0 listings.\n",
      "Checkpoint Saved\n"
     ]
    },
    {
     "ename": "NameError",
     "evalue": "name 'time' is not defined",
     "output_type": "error",
     "traceback": [
      "\u001b[0;31m---------------------------------------------------------------------------\u001b[0m",
      "\u001b[0;31mNameError\u001b[0m                                 Traceback (most recent call last)",
      "Cell \u001b[0;32mIn[6], line 63\u001b[0m\n\u001b[1;32m     61\u001b[0m         dataframe\u001b[38;5;241m.\u001b[39mto_csv(\u001b[38;5;124m'\u001b[39m\u001b[38;5;124mdata.csv\u001b[39m\u001b[38;5;124m'\u001b[39m)\n\u001b[1;32m     62\u001b[0m         \u001b[38;5;28mprint\u001b[39m(\u001b[38;5;124m\"\u001b[39m\u001b[38;5;124mCheckpoint Saved\u001b[39m\u001b[38;5;124m\"\u001b[39m)\n\u001b[0;32m---> 63\u001b[0m \u001b[43mtime\u001b[49m\u001b[38;5;241m.\u001b[39msleep(\u001b[38;5;241m2\u001b[39m)\n",
      "\u001b[0;31mNameError\u001b[0m: name 'time' is not defined"
     ]
    }
   ],
   "source": [
    "flag = False\n",
    "for location in location_list:\n",
    "    for search_type in search_type_list:\n",
    "        for property_type in property_type_list:\n",
    "            #print(location)\n",
    "            #if location == checkpoint_location:\n",
    "            flag = True\n",
    "                \n",
    "            if flag == True:\n",
    "                checkpoint_location = location\n",
    "                checkpoint_search_type = search_type\n",
    "                checkpoint_property_type = property_type\n",
    "\n",
    "                daft = Daft()\n",
    "                daft.set_location(location)\n",
    "                daft.set_search_type(search_type)\n",
    "                daft.set_property_type(property_type)\n",
    "\n",
    "                listings = daft.search()\n",
    "                for listing in listings:\n",
    "                    new_row = {\n",
    "                        'ID': None,\n",
    "                        'Location': location,\n",
    "                        'SearchType': search_type,\n",
    "                        'PropertyType': property_type,\n",
    "                        'TITLE': None,\n",
    "                        'AGENT_ID': None,\n",
    "                        'AGENT_BRANCH': None,\n",
    "                        'AGENT_NAME': None,\n",
    "                        'AGENT_SELLER_TYPE': None,\n",
    "                        'BATHROOM': None,\n",
    "                        'BEDROOM': None,\n",
    "                        'BER': None,\n",
    "                        'CATEGORY': None,\n",
    "                        'MONTHLY_PRICE': None,\n",
    "                        'PRICE': None,\n",
    "                        'LATITUDE': None,\n",
    "                        'LONGITUDE': None,\n",
    "                        'PUBLISH_DATE': None\n",
    "                    }\n",
    "\n",
    "                    attributes = ['ID', 'TITLE', 'AGENT_ID', 'AGENT_BRANCH', 'AGENT_NAME',\n",
    "                                  'AGENT_SELLER_TYPE', 'BATHROOMS', 'BEDROOMS', 'BER', 'CATEGORY',\n",
    "                                  'MONTHLY_PRICE', 'PRICE', 'LATITUDE', 'LONGITUDE', 'PUBLISH_DATE']\n",
    "\n",
    "                    for attribute in attributes:\n",
    "                        try:\n",
    "                            value = getattr(listing, attribute.lower(), None)\n",
    "                            new_row[attribute] = value\n",
    "                        except KeyError:\n",
    "                            new_row[attribute] = None\n",
    "                        except ValueError:\n",
    "                            new_row[attribute] = None\n",
    "\n",
    "\n",
    "\n",
    "                    dataframe = dataframe.append(new_row, ignore_index=True)\n",
    "\n",
    "                with open(checkpoint_file, 'w') as f:\n",
    "                    f.write(f\"{checkpoint_location},{checkpoint_search_type},{checkpoint_property_type}\")\n",
    "                    dataframe.to_csv('data.csv')\n",
    "                    print(\"Checkpoint Saved\")\n",
    "            time.sleep(2)\n"
   ]
  },
  {
   "cell_type": "code",
   "execution_count": null,
   "metadata": {},
   "outputs": [],
   "source": [
    "location_list"
   ]
  },
  {
   "cell_type": "code",
   "execution_count": null,
   "metadata": {},
   "outputs": [],
   "source": []
  }
 ],
 "metadata": {
  "kernelspec": {
   "display_name": "Python 3 (ipykernel)",
   "language": "python",
   "name": "python3"
  },
  "language_info": {
   "codemirror_mode": {
    "name": "ipython",
    "version": 3
   },
   "file_extension": ".py",
   "mimetype": "text/x-python",
   "name": "python",
   "nbconvert_exporter": "python",
   "pygments_lexer": "ipython3",
   "version": "3.10.9"
  }
 },
 "nbformat": 4,
 "nbformat_minor": 2
}
